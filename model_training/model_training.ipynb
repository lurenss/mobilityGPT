{
 "cells": [
  {
   "cell_type": "markdown",
   "metadata": {},
   "source": [
    "### Pre processing of the data"
   ]
  },
  {
   "cell_type": "code",
   "execution_count": 1,
   "metadata": {},
   "outputs": [],
   "source": [
    "import pandas as pd\n",
    "\n",
    "df = pd.read_csv('../dataset_generation/gps_traces.csv')\n",
    "\n",
    "# for each merge the gps traces into one new column\n",
    "\n",
    "a = df.groupby(['User'])['path'].apply(lambda x: '|'.join(x.astype(str))).reset_index()\n",
    "# remove from path all the spaces\n",
    "a['path'] = a['path'].str.replace(' ', '').str.replace('[','').str.replace(']', '') \n",
    "# replace  the first one | with |\n",
    "a['path'] = a['path'].str.replace('|', '!', 1)\n",
    "# replace the last | with ~\n",
    "\n",
    "# write a.iloc[0]['path'] to a file\n",
    "f = open(\"gps_traces.txt\", \"w\")\n",
    "f.write(a.iloc[0]['path'])\n",
    "f.close()\n",
    "\n",
    "\n",
    "\n"
   ]
  }
 ],
 "metadata": {
  "kernelspec": {
   "display_name": "Python 3",
   "language": "python",
   "name": "python3"
  },
  "language_info": {
   "codemirror_mode": {
    "name": "ipython",
    "version": 3
   },
   "file_extension": ".py",
   "mimetype": "text/x-python",
   "name": "python",
   "nbconvert_exporter": "python",
   "pygments_lexer": "ipython3",
   "version": "3.10.13"
  }
 },
 "nbformat": 4,
 "nbformat_minor": 2
}
